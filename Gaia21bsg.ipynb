{
 "cells": [
  {
   "cell_type": "code",
   "execution_count": 1,
   "id": "acd92715",
   "metadata": {},
   "outputs": [],
   "source": [
    "import pyLIMA"
   ]
  },
  {
   "cell_type": "code",
   "execution_count": 2,
   "id": "61bd5434",
   "metadata": {},
   "outputs": [],
   "source": [
    "%matplotlib notebook\n",
    "\n",
    "import numpy as np\n",
    "import matplotlib.pyplot as plt\n",
    "import csv\n",
    "\n",
    "from pyLIMA.fits import DE_fit\n",
    "from pyLIMA.fits import TRF_fit\n",
    "from pyLIMA.models import PSPL_model\n",
    "from pyLIMA.models import USBL_model, pyLIMA_fancy_parameters\n",
    "from pyLIMA.outputs import pyLIMA_plots\n",
    "\n",
    "from pyLIMA import event\n",
    "from pyLIMA import telescopes"
   ]
  },
  {
   "cell_type": "code",
   "execution_count": 3,
   "id": "bd9d2bac",
   "metadata": {},
   "outputs": [],
   "source": [
    "your_event = event.Event(ra=262.75616,dec=-21.40123)\n",
    "your_event.name = 'Gaia21bsg'"
   ]
  },
  {
   "cell_type": "code",
   "execution_count": 4,
   "id": "38b0efae",
   "metadata": {},
   "outputs": [],
   "source": [
    "data_1 = np.loadtxt('data/star_20957_Gaia21bsg_fs01_ip_reduced.dat')\n",
    "telescope_1 = telescopes.Telescope(name='Gaia',\n",
    "                                  camera_filter = 'I',\n",
    "                                  light_curve = data_1.astype(float),\n",
    "                                  light_curve_names = ['time','mag','err_mag'],\n",
    "                                  light_curve_units = ['JD','mag','mag'])\n",
    "\n",
    "data_2 = np.loadtxt('data/star_50085_Gaia21bsg_gp_reduced.dat')\n",
    "telescope_2 = telescopes.Telescope(name='Gaia2',\n",
    "                                  camera_filter = 'G',\n",
    "                                  light_curve = data_2.astype(float),\n",
    "                                  light_curve_names = ['time','mag','err_mag'],\n",
    "                                  light_curve_units = ['JD','mag','mag'])\n",
    "\n",
    "data_3 = np.loadtxt('data/star_79874_Gaia21bsg_ip_reduced.dat')\n",
    "telescope_3 = telescopes.Telescope(name='Gaia3',\n",
    "                                  camera_filter = 'I',\n",
    "                                  light_curve = data_3.astype(float),\n",
    "                                  light_curve_names = ['time','mag','err_mag'],\n",
    "                                  light_curve_units = ['JD','mag','mag'])"
   ]
  },
  {
   "cell_type": "code",
   "execution_count": 5,
   "id": "906d31fd",
   "metadata": {},
   "outputs": [],
   "source": [
    "plt.plot(data_3[:,0],data_3[:,1])"
   ]
  },
  {
   "cell_type": "code",
   "execution_count": 6,
   "id": "5ecdcc7c",
   "metadata": {},
   "outputs": [],
   "source": [
    "data_4 = np.loadtxt('data/atlas_Gaia21bsg_reduced.dat')\n",
    "data_4[:,0] = data_4[:,0] + 2.4e6\n",
    "telescope_4 = telescopes.Telescope(name='Atlas',\n",
    "                                  camera_filter = '',\n",
    "                                  light_curve = data_4.astype(float),\n",
    "                                  light_curve_names = ['time','mag','err_mag'],\n",
    "                                  light_curve_units = ['JD','mag','mag'])"
   ]
  },
  {
   "cell_type": "code",
   "execution_count": 7,
   "id": "b5214c51",
   "metadata": {},
   "outputs": [],
   "source": [
    "plt.plot(data_4[:,0],data_4[:,1])"
   ]
  },
  {
   "cell_type": "code",
   "execution_count": 8,
   "id": "b141009f",
   "metadata": {},
   "outputs": [],
   "source": [
    "data_5 = np.loadtxt('data/ztf_gaiabsg21_reduced.dat')\n",
    "data_5[:,0] = data_5[:,0] + 2.4e6\n",
    "telescope_5 = telescopes.Telescope(name='ZTF',\n",
    "                                  camera_filter = '',\n",
    "                                  light_curve = data_5.astype(float),\n",
    "                                  light_curve_names = ['time','mag','err_mag'],\n",
    "                                  light_curve_units = ['JD','mag','mag'])"
   ]
  },
  {
   "cell_type": "code",
   "execution_count": 9,
   "id": "96808311",
   "metadata": {},
   "outputs": [],
   "source": [
    "plt.plot(data_5[:,0],data_5[:,1])"
   ]
  },
  {
   "cell_type": "markdown",
   "id": "b17890a2",
   "metadata": {},
   "source": [
    "# object id found via ztf: 281216400001763"
   ]
  },
  {
   "cell_type": "code",
   "execution_count": null,
   "id": "5e856108",
   "metadata": {},
   "outputs": [],
   "source": [
    "your_event.telescopes.append(telescope_1)\n",
    "your_event.telescopes.append(telescope_2)\n",
    "your_event.telescopes.append(telescope_3)\n",
    "your_event.telescopes.append(telescope_4)\n",
    "your_event.telescopes.append(telescope_5)"
   ]
  },
  {
   "cell_type": "code",
   "execution_count": null,
   "id": "3b7ff095",
   "metadata": {},
   "outputs": [],
   "source": [
    "your_event.find_survey('Gaia')"
   ]
  },
  {
   "cell_type": "code",
   "execution_count": null,
   "id": "c5b3cd22",
   "metadata": {},
   "outputs": [],
   "source": [
    "your_event.check_event()"
   ]
  },
  {
   "cell_type": "code",
   "execution_count": null,
   "id": "6f925de0",
   "metadata": {},
   "outputs": [],
   "source": [
    "from pyLIMA.models import PSPL_model\n",
    "pspl = PSPL_model.PSPLmodel(your_event)"
   ]
  },
  {
   "cell_type": "code",
   "execution_count": null,
   "id": "552ab307",
   "metadata": {},
   "outputs": [],
   "source": [
    "from pyLIMA.fits import DE_fit"
   ]
  },
  {
   "cell_type": "code",
   "execution_count": null,
   "id": "2a1f9789",
   "metadata": {},
   "outputs": [],
   "source": [
    "my_fit = DE_fit.DEfit(pspl)"
   ]
  },
  {
   "cell_type": "code",
   "execution_count": null,
   "id": "1e7cb478",
   "metadata": {},
   "outputs": [],
   "source": [
    "my_fit.fit_parameters"
   ]
  },
  {
   "cell_type": "code",
   "execution_count": null,
   "id": "6a7d2065",
   "metadata": {},
   "outputs": [],
   "source": [
    "my_fit.fit()"
   ]
  },
  {
   "cell_type": "code",
   "execution_count": null,
   "id": "4ab4fe10",
   "metadata": {},
   "outputs": [],
   "source": [
    "my_fit.fit_results"
   ]
  },
  {
   "cell_type": "code",
   "execution_count": null,
   "id": "5d8d13fe",
   "metadata": {},
   "outputs": [],
   "source": [
    "my_fit.fit_results['best_model']"
   ]
  },
  {
   "cell_type": "code",
   "execution_count": null,
   "id": "0759740b",
   "metadata": {},
   "outputs": [],
   "source": [
    "my_fit.fit_parameters.keys()"
   ]
  },
  {
   "cell_type": "code",
   "execution_count": null,
   "id": "c08ae030",
   "metadata": {},
   "outputs": [],
   "source": [
    "from pyLIMA.outputs import pyLIMA_plots\n",
    "pyLIMA_plots.plot_lightcurves(pspl,my_fit.fit_results['best_model'])\n",
    "plt.show()"
   ]
  },
  {
   "cell_type": "code",
   "execution_count": null,
   "id": "47fa7c35",
   "metadata": {},
   "outputs": [],
   "source": [
    "from pyLIMA.fits import LM_fit"
   ]
  },
  {
   "cell_type": "code",
   "execution_count": null,
   "id": "0bad38b2",
   "metadata": {},
   "outputs": [],
   "source": [
    "my_fit2 = LM_fit.LMfit(pspl)"
   ]
  },
  {
   "cell_type": "code",
   "execution_count": null,
   "id": "0da1062d",
   "metadata": {},
   "outputs": [],
   "source": [
    "my_fit2.fit()"
   ]
  },
  {
   "cell_type": "code",
   "execution_count": null,
   "id": "50cd83a8",
   "metadata": {},
   "outputs": [],
   "source": [
    "my_fit2.fit_results"
   ]
  },
  {
   "cell_type": "code",
   "execution_count": null,
   "id": "b6a41955",
   "metadata": {},
   "outputs": [],
   "source": [
    "my_fit2.fit_results['best_model']"
   ]
  },
  {
   "cell_type": "code",
   "execution_count": null,
   "id": "20754644",
   "metadata": {},
   "outputs": [],
   "source": [
    "my_fit2.fit_parameters.keys()"
   ]
  },
  {
   "cell_type": "code",
   "execution_count": null,
   "id": "01cefe1c",
   "metadata": {},
   "outputs": [],
   "source": [
    "pyLIMA_plots.plot_lightcurves(pspl,my_fit2.fit_results['best_model'])\n",
    "plt.show()"
   ]
  }
 ],
 "metadata": {
  "kernelspec": {
   "display_name": "Python 3 (ipykernel)",
   "language": "python",
   "name": "python3"
  },
  "language_info": {
   "codemirror_mode": {
    "name": "ipython",
    "version": 3
   },
   "file_extension": ".py",
   "mimetype": "text/x-python",
   "name": "python",
   "nbconvert_exporter": "python",
   "pygments_lexer": "ipython3",
   "version": "3.11.2"
  }
 },
 "nbformat": 4,
 "nbformat_minor": 5
}
