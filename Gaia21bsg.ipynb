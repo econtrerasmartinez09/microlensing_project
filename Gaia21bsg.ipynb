{
 "cells": [
  {
   "cell_type": "code",
   "execution_count": 1,
   "id": "acd92715",
   "metadata": {},
   "outputs": [],
   "source": [
    "import pyLIMA"
   ]
  },
  {
   "cell_type": "code",
   "execution_count": 2,
   "id": "61bd5434",
   "metadata": {},
   "outputs": [],
   "source": [
    "%matplotlib widget\n",
    "\n",
    "import numpy as np\n",
    "import matplotlib.pyplot as plt\n",
    "\n",
    "from pyLIMA.fits import DE_fit\n",
    "from pyLIMA.fits import TRF_fit\n",
    "from pyLIMA.models import PSPL_model\n",
    "from pyLIMA.models import USBL_model, pyLIMA_fancy_parameters\n",
    "from pyLIMA.outputs import pyLIMA_plots\n",
    "\n",
    "from pyLIMA import event\n",
    "from pyLIMA import telescopes"
   ]
  },
  {
   "cell_type": "code",
   "execution_count": 3,
   "id": "bd9d2bac",
   "metadata": {},
   "outputs": [],
   "source": [
    "your_event = event.Event()\n",
    "your_event.name = 'Gaia21bsg'"
   ]
  },
  {
   "cell_type": "code",
   "execution_count": 5,
   "id": "38b0efae",
   "metadata": {},
   "outputs": [],
   "source": [
    "data_1 = np.loadtxt('data/star_20957_Gaia21bsg_fs01_ip.dat')\n",
    "telescope_1 = telescopes.Telescope(name='Gaia',\n",
    "                                  camera_filter = 'I',\n",
    "                                  light_curve = data_1.astype(float),\n",
    "                                  light_curve_names = ['time','mag','err_mag'],\n",
    "                                  light_curve_units = ['JD','mag','mag'])\n",
    "\n",
    "data_2 = np.loadtxt('data/star_50085_Gaia21bsg_gp.dat')\n",
    "telescope_2 = telescopes.Telescope(name='Gaia',\n",
    "                                  camera_filter = 'G',\n",
    "                                  light_curve = data_2.astype(float),\n",
    "                                  light_curve_names = ['time','mag','err_mag'],\n",
    "                                  light_curve_units = ['JD','mag','mag'])\n",
    "\n",
    "data_3 = np.loadtxt('data/star_79874_Gaia21bsg_ip.dat')\n",
    "telescope_3 = telescopes.Telescope(name='Gaia',\n",
    "                                  camera_filter = 'I',\n",
    "                                  light_curve = data_3.astype(float),\n",
    "                                  light_curve_names = ['time','mag','err_mag'],\n",
    "                                  light_curve_units = ['JD','mag','mag'])"
   ]
  }
 ],
 "metadata": {
  "kernelspec": {
   "display_name": "Python 3 (ipykernel)",
   "language": "python",
   "name": "python3"
  },
  "language_info": {
   "codemirror_mode": {
    "name": "ipython",
    "version": 3
   },
   "file_extension": ".py",
   "mimetype": "text/x-python",
   "name": "python",
   "nbconvert_exporter": "python",
   "pygments_lexer": "ipython3",
   "version": "3.11.2"
  }
 },
 "nbformat": 4,
 "nbformat_minor": 5
}
